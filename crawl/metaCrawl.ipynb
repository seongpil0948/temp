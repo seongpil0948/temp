{
 "metadata": {
  "language_info": {
   "codemirror_mode": {
    "name": "ipython",
    "version": 3
   },
   "file_extension": ".py",
   "mimetype": "text/x-python",
   "name": "python",
   "nbconvert_exporter": "python",
   "pygments_lexer": "ipython3",
   "version": "3.7.3-final"
  },
  "orig_nbformat": 2,
  "kernelspec": {
   "name": "python3",
   "display_name": "Python 3",
   "language": "python"
  }
 },
 "nbformat": 4,
 "nbformat_minor": 2,
 "cells": [
  {
   "cell_type": "code",
   "execution_count": 1,
   "metadata": {},
   "outputs": [],
   "source": [
    "from requests import Session\n",
    "from requests.adapters import HTTPAdapter\n",
    "from requests.packages.urllib3.util.retry import Retry\n",
    "import sys, os, re\n",
    "from bs4 import BeautifulSoup as bs\n",
    "class RetrySession(Session):\n",
    "    __attrs__ = [\n",
    "        'headers', 'cookies', 'auth', 'proxies', 'hooks', 'params', 'verify',\n",
    "        'cert', 'prefetch', 'adapters', 'stream', 'trust_env',\n",
    "        'max_redirects', 'retries', 'backoff', 'timeout', 'set_encoding',\n",
    "        'mount', 'encoding'\n",
    "    ]\n",
    "\n",
    "    def __init__(self, retries=3, backoff=0.3, timeout=5, **kwargs):\n",
    "        \"\"\" Session with retrying adapter\n",
    "\n",
    "        param:\n",
    "\n",
    "            retries: maximum number of retries (default: 3)\n",
    "\n",
    "            backoff: sleep for {backoff} * 2 ** {n_retries}, (default: 0.3)\n",
    "\n",
    "            timeout: request timeout\n",
    "\n",
    "            encoding: if given, set response encoding after receiving requests\n",
    "        \"\"\"\n",
    "        self.retries = retries\n",
    "        self.backoff = backoff\n",
    "        self.timeout = timeout\n",
    "        self.set_encoding = ('encoding' in kwargs)\n",
    "        self.encoding = None\n",
    "        if self.set_encoding:\n",
    "            self.encoding = kwargs['encoding']\n",
    "\n",
    "        super().__init__()\n",
    "        retry = Retry(retries, retries, retries, backoff_factor=backoff)\n",
    "        adapter = HTTPAdapter(max_retries=retry)\n",
    "        self.mount('https://', adapter)\n",
    "        self.mount('http://', adapter)\n",
    "\n",
    "        self.headers['User-Agent'] = 'SNU IDS Lab (http://ids.snu.ac.kr/)'\n",
    "\n",
    "    def request(self, method, url, **kwargs):\n",
    "        if 'timeout' not in kwargs:\n",
    "            kwargs['timeout'] = self.timeout\n",
    "\n",
    "        r = super().request(method, url, **kwargs)\n",
    "\n",
    "        if self.set_encoding:\n",
    "            r.encoding = self.encoding\n",
    "\n",
    "        return r.text\n",
    "\n",
    "s = RetrySession()"
   ]
  },
  {
   "cell_type": "code",
   "execution_count": 4,
   "metadata": {},
   "outputs": [
    {
     "output_type": "execute_result",
     "data": {
      "text/plain": [
       "13"
      ]
     },
     "metadata": {},
     "execution_count": 4
    }
   ],
   "source": [
    "resp = s.get('http://madhead42.cafe24.com/product/%EC%83%98%ED%94%8C%EC%83%81%ED%92%88-2/10/category/24/display/1/')\n",
    "soup = bs(resp, 'html.parser')\n",
    "metas = soup.find_all(\"meta\")\n",
    "len(metas)"
   ]
  },
  {
   "cell_type": "code",
   "execution_count": 17,
   "metadata": {},
   "outputs": [
    {
     "output_type": "error",
     "ename": "NameError",
     "evalue": "name 'x' is not defined",
     "traceback": [
      "\u001b[1;31m---------------------------------------------------------------------------\u001b[0m",
      "\u001b[1;31mNameError\u001b[0m                                 Traceback (most recent call last)",
      "\u001b[1;32m<ipython-input-17-d9f15d44ea59>\u001b[0m in \u001b[0;36m<module>\u001b[1;34m\u001b[0m\n\u001b[0;32m     10\u001b[0m \u001b[0mdata\u001b[0m \u001b[1;33m=\u001b[0m \u001b[1;33m{\u001b[0m\u001b[1;33m}\u001b[0m\u001b[1;33m\u001b[0m\u001b[1;33m\u001b[0m\u001b[0m\n\u001b[0;32m     11\u001b[0m \u001b[1;32mfor\u001b[0m \u001b[0mmeta\u001b[0m \u001b[1;32min\u001b[0m \u001b[0mmetas\u001b[0m\u001b[1;33m:\u001b[0m\u001b[1;33m\u001b[0m\u001b[1;33m\u001b[0m\u001b[0m\n\u001b[1;32m---> 12\u001b[1;33m     \u001b[0mattrs\u001b[0m \u001b[1;33m=\u001b[0m \u001b[0mx\u001b[0m\u001b[1;33m.\u001b[0m\u001b[0mattrs\u001b[0m\u001b[1;33m\u001b[0m\u001b[1;33m\u001b[0m\u001b[0m\n\u001b[0m\u001b[0;32m     13\u001b[0m     \u001b[1;32mif\u001b[0m \u001b[1;34m'property'\u001b[0m \u001b[1;32min\u001b[0m \u001b[0mattrs\u001b[0m \u001b[1;32mand\u001b[0m \u001b[1;34m'content'\u001b[0m \u001b[1;32min\u001b[0m \u001b[0mattrs\u001b[0m\u001b[1;33m:\u001b[0m\u001b[1;33m\u001b[0m\u001b[1;33m\u001b[0m\u001b[0m\n\u001b[0;32m     14\u001b[0m         \u001b[1;32mfor\u001b[0m \u001b[0mk\u001b[0m\u001b[1;33m,\u001b[0m \u001b[0mhints\u001b[0m \u001b[1;32min\u001b[0m \u001b[0mhints\u001b[0m\u001b[1;33m.\u001b[0m\u001b[0mitems\u001b[0m\u001b[1;33m(\u001b[0m\u001b[1;33m)\u001b[0m\u001b[1;33m:\u001b[0m\u001b[1;33m\u001b[0m\u001b[1;33m\u001b[0m\u001b[0m\n",
      "\u001b[1;31mNameError\u001b[0m: name 'x' is not defined"
     ]
    }
   ],
   "source": [
    "hints = {\n",
    "    'title': {'og:title'},\n",
    "    'site': {'og:site_name'},\n",
    "    'type': {'og:type'},\n",
    "    'price': {'product:price:amount'},\n",
    "    'sale_price': {'product:sale_price:amount'},\n",
    "    'currency': {'product:price:currency'},\n",
    "}\n",
    "\n",
    "data = {}\n",
    "for meta in metas:\n",
    "    attrs = meta.attrs\n",
    "    if 'property' in attrs and 'content' in attrs:\n",
    "        for k, hints in hints.items():\n",
    "            if attrs['property'] in hints:\n",
    "                data[k] = attrs['content']\n",
    "data"
   ]
  },
  {
   "cell_type": "code",
   "execution_count": null,
   "metadata": {},
   "outputs": [],
   "source": []
  }
 ]
}